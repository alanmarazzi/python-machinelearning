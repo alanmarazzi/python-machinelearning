{
 "cells": [
  {
   "cell_type": "markdown",
   "metadata": {
    "collapsed": true
   },
   "source": [
    "# Compressing Data via Dimensionality Reduction\n",
    "\n",
    "There are various techniques to reduce dimensionality and summarize the information content\n",
    "\n",
    "## Principal Component Analysis\n",
    "\n",
    "**PCA** is an unsupervised linear transformation technique that is widely used across different fields. PCA helps us identify patterns in data based on the correlation between features. \n",
    "\n",
    "To perform PCA we have to follow these steps:\n",
    "\n",
    "- Standardize the $d$ dimensional dataset\n",
    "- Construct the covariance matrix\n",
    "- Decompose the covariance matrix into eigenvectors and eigenvalues\n",
    "- Select $k$ eigenvectors that correspond to the $k$ largest eigenvalues, where $k$ is the dimensionality of the new feature subspace\n",
    "- Construct a projection matrix $W$ from the top $k$ eigenvectors\n",
    "- Transform the $d$ dimensional input dataset $X$ using the projection matrix $W$\n",
    "\n",
    "### Total and explained variance\n",
    "\n",
    "We will start by tackling the first 4 steps descripted above. We will use the **Wine** dataset of the previous chapter"
   ]
  },
  {
   "cell_type": "code",
   "execution_count": 2,
   "metadata": {
    "collapsed": false
   },
   "outputs": [],
   "source": [
    "import pandas as pd\n",
    "\n",
    "df_wine = pd.read_csv('https://archive.ics.uci.edu/ml/machine-learning-databases/wine/wine.data', header=None)"
   ]
  },
  {
   "cell_type": "markdown",
   "metadata": {},
   "source": [
    "Next let's split data into training and test sets and standardize it to unit variance"
   ]
  },
  {
   "cell_type": "code",
   "execution_count": 3,
   "metadata": {
    "collapsed": true
   },
   "outputs": [],
   "source": [
    "from sklearn.cross_validation import train_test_split\n",
    "from sklearn.preprocessing import StandardScaler\n",
    "\n",
    "x, y = df_wine.iloc[:, 1:].values, df_wine.iloc[:, 0].values\n",
    "x_train, x_test, y_train, y_test = train_test_split(x, y, test_size=.3, random_state=0)\n",
    "sc = StandardScaler()\n",
    "x_train_std = sc.fit_transform(x_train)\n",
    "x_test_std = sc.transform(x_test)"
   ]
  },
  {
   "cell_type": "code",
   "execution_count": null,
   "metadata": {
    "collapsed": true
   },
   "outputs": [],
   "source": []
  }
 ],
 "metadata": {
  "anaconda-cloud": {},
  "kernelspec": {
   "display_name": "Python [conda env:python-machinelearning]",
   "language": "python",
   "name": "conda-env-python-machinelearning-py"
  },
  "language_info": {
   "codemirror_mode": {
    "name": "ipython",
    "version": 3
   },
   "file_extension": ".py",
   "mimetype": "text/x-python",
   "name": "python",
   "nbconvert_exporter": "python",
   "pygments_lexer": "ipython3",
   "version": "3.5.2"
  }
 },
 "nbformat": 4,
 "nbformat_minor": 2
}
