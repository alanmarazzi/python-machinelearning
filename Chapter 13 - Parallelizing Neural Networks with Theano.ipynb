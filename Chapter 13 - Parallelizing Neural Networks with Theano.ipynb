{
 "cells": [
  {
   "cell_type": "markdown",
   "metadata": {
    "collapsed": true
   },
   "source": [
    "# Testing Theano\n",
    "\n",
    "**Theano** is built around tensors that can be seen as generalizations of scalars, vectors, matrices and so on. A scalar can be defined as a rank-0 tensor, a vector as a rank-1 tensor, etc.\n",
    "\n",
    "Now we will compute a net input $z$ of a sample point $x$ in a one dimensional dataset with weight $w_1$ and bias $w_0$:\n",
    "\n",
    "$$\n",
    "z = x_1 \\times w_1 + w_0\n",
    "$$"
   ]
  },
  {
   "cell_type": "code",
   "execution_count": 2,
   "metadata": {
    "collapsed": false
   },
   "outputs": [
    {
     "name": "stdout",
     "output_type": "stream",
     "text": [
      "Net input: 2.50\n"
     ]
    }
   ],
   "source": [
    "import theano\n",
    "from theano import tensor as T\n",
    "\n",
    "# initialize symbols\n",
    "x1 = T.scalar()\n",
    "w1 = T.scalar()\n",
    "w0 = T.scalar()\n",
    "z1 = x1 * w1 + w0\n",
    "\n",
    "# compile code\n",
    "net_input = theano.function(inputs=[w1,x1,w0], outputs=z1)\n",
    "\n",
    "# run the code\n",
    "print(\"Net input: %.2f\" % net_input(2.0, 1.0, 0.5))"
   ]
  },
  {
   "cell_type": "markdown",
   "metadata": {},
   "source": [
    "Writing code in Theano follows three simple steps:\n",
    "\n",
    "- Define the *symbols* (Variable objects)\n",
    "- Compile the code\n",
    "- And execute\n",
    "\n",
    "Anyway we have to remember to configure Theano correctly and switch back and forth between *float64* to work with CPU and *float32* to work with GPU."
   ]
  },
  {
   "cell_type": "code",
   "execution_count": 3,
   "metadata": {
    "collapsed": false
   },
   "outputs": [
    {
     "name": "stdout",
     "output_type": "stream",
     "text": [
      "float32\n"
     ]
    }
   ],
   "source": [
    "print(theano.config.floatX)"
   ]
  },
  {
   "cell_type": "markdown",
   "metadata": {},
   "source": [
    "## Working with array structures\n",
    "\n",
    "We will create a 2x3 matrix and calculate the column sums"
   ]
  },
  {
   "cell_type": "code",
   "execution_count": 4,
   "metadata": {
    "collapsed": false
   },
   "outputs": [
    {
     "name": "stdout",
     "output_type": "stream",
     "text": [
      "Columns sum:  [ 2.  4.  6.]\n"
     ]
    }
   ],
   "source": [
    "import numpy as np\n",
    "\n",
    "x = T.fmatrix(name='x')\n",
    "x_sum = T.sum(x, axis=0)\n",
    "\n",
    "calc_sum = theano.function(inputs=[x], outputs=x_sum)\n",
    "\n",
    "ary = [[1,2,3],[1,2,3]]\n",
    "print(\"Columns sum: \", calc_sum(ary))"
   ]
  },
  {
   "cell_type": "code",
   "execution_count": 6,
   "metadata": {
    "collapsed": false
   },
   "outputs": [
    {
     "name": "stdout",
     "output_type": "stream",
     "text": [
      "Columns sum:  [ 2.  4.  6.]\n"
     ]
    }
   ],
   "source": [
    "ary = np.array([[1,2,3],[1,2,3]], dtype=theano.config.floatX)\n",
    "print(\"Columns sum: \", calc_sum(ary))"
   ]
  },
  {
   "cell_type": "code",
   "execution_count": null,
   "metadata": {
    "collapsed": true
   },
   "outputs": [],
   "source": []
  }
 ],
 "metadata": {
  "kernelspec": {
   "display_name": "Python 3",
   "language": "python",
   "name": "python3"
  },
  "language_info": {
   "codemirror_mode": {
    "name": "ipython",
    "version": 3
   },
   "file_extension": ".py",
   "mimetype": "text/x-python",
   "name": "python",
   "nbconvert_exporter": "python",
   "pygments_lexer": "ipython3",
   "version": "3.6.0"
  }
 },
 "nbformat": 4,
 "nbformat_minor": 2
}
