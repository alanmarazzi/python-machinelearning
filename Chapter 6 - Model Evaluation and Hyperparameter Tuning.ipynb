{
 "cells": [
  {
   "cell_type": "markdown",
   "metadata": {},
   "source": [
    "# Best Practices for Model Evaluation and Hyperparameter Tuning\n",
    "\n",
    "## Streamlining workflows with pipelines\n",
    "\n",
    "When working on a dataset we saw that we have to reuse the parameters that were obtained during the fitting of the training data. We will learn how to use the **Pipeline** class in scikit-learn for this.\n",
    "\n",
    "### Loading a dataset\n",
    "\n",
    "We will be working with the [**Breast Cancer Wisconsin**](https://archive.ics.uci.edu/ml/machine-learning-databases/breast-cancer-wisconsin) dataset which contains 569 samples of malignant and benign tumor cells.\n",
    "\n",
    "We will read the dataset and split it into training and test sets"
   ]
  },
  {
   "cell_type": "code",
   "execution_count": 1,
   "metadata": {
    "collapsed": false
   },
   "outputs": [
    {
     "data": {
      "text/html": [
       "<div>\n",
       "<table border=\"1\" class=\"dataframe\">\n",
       "  <thead>\n",
       "    <tr style=\"text-align: right;\">\n",
       "      <th></th>\n",
       "      <th>0</th>\n",
       "      <th>1</th>\n",
       "      <th>2</th>\n",
       "      <th>3</th>\n",
       "      <th>4</th>\n",
       "      <th>5</th>\n",
       "      <th>6</th>\n",
       "      <th>7</th>\n",
       "      <th>8</th>\n",
       "      <th>9</th>\n",
       "      <th>...</th>\n",
       "      <th>22</th>\n",
       "      <th>23</th>\n",
       "      <th>24</th>\n",
       "      <th>25</th>\n",
       "      <th>26</th>\n",
       "      <th>27</th>\n",
       "      <th>28</th>\n",
       "      <th>29</th>\n",
       "      <th>30</th>\n",
       "      <th>31</th>\n",
       "    </tr>\n",
       "  </thead>\n",
       "  <tbody>\n",
       "    <tr>\n",
       "      <th>0</th>\n",
       "      <td>842302</td>\n",
       "      <td>M</td>\n",
       "      <td>17.99</td>\n",
       "      <td>10.38</td>\n",
       "      <td>122.80</td>\n",
       "      <td>1001.0</td>\n",
       "      <td>0.11840</td>\n",
       "      <td>0.27760</td>\n",
       "      <td>0.3001</td>\n",
       "      <td>0.14710</td>\n",
       "      <td>...</td>\n",
       "      <td>25.38</td>\n",
       "      <td>17.33</td>\n",
       "      <td>184.60</td>\n",
       "      <td>2019.0</td>\n",
       "      <td>0.1622</td>\n",
       "      <td>0.6656</td>\n",
       "      <td>0.7119</td>\n",
       "      <td>0.2654</td>\n",
       "      <td>0.4601</td>\n",
       "      <td>0.11890</td>\n",
       "    </tr>\n",
       "    <tr>\n",
       "      <th>1</th>\n",
       "      <td>842517</td>\n",
       "      <td>M</td>\n",
       "      <td>20.57</td>\n",
       "      <td>17.77</td>\n",
       "      <td>132.90</td>\n",
       "      <td>1326.0</td>\n",
       "      <td>0.08474</td>\n",
       "      <td>0.07864</td>\n",
       "      <td>0.0869</td>\n",
       "      <td>0.07017</td>\n",
       "      <td>...</td>\n",
       "      <td>24.99</td>\n",
       "      <td>23.41</td>\n",
       "      <td>158.80</td>\n",
       "      <td>1956.0</td>\n",
       "      <td>0.1238</td>\n",
       "      <td>0.1866</td>\n",
       "      <td>0.2416</td>\n",
       "      <td>0.1860</td>\n",
       "      <td>0.2750</td>\n",
       "      <td>0.08902</td>\n",
       "    </tr>\n",
       "    <tr>\n",
       "      <th>2</th>\n",
       "      <td>84300903</td>\n",
       "      <td>M</td>\n",
       "      <td>19.69</td>\n",
       "      <td>21.25</td>\n",
       "      <td>130.00</td>\n",
       "      <td>1203.0</td>\n",
       "      <td>0.10960</td>\n",
       "      <td>0.15990</td>\n",
       "      <td>0.1974</td>\n",
       "      <td>0.12790</td>\n",
       "      <td>...</td>\n",
       "      <td>23.57</td>\n",
       "      <td>25.53</td>\n",
       "      <td>152.50</td>\n",
       "      <td>1709.0</td>\n",
       "      <td>0.1444</td>\n",
       "      <td>0.4245</td>\n",
       "      <td>0.4504</td>\n",
       "      <td>0.2430</td>\n",
       "      <td>0.3613</td>\n",
       "      <td>0.08758</td>\n",
       "    </tr>\n",
       "    <tr>\n",
       "      <th>3</th>\n",
       "      <td>84348301</td>\n",
       "      <td>M</td>\n",
       "      <td>11.42</td>\n",
       "      <td>20.38</td>\n",
       "      <td>77.58</td>\n",
       "      <td>386.1</td>\n",
       "      <td>0.14250</td>\n",
       "      <td>0.28390</td>\n",
       "      <td>0.2414</td>\n",
       "      <td>0.10520</td>\n",
       "      <td>...</td>\n",
       "      <td>14.91</td>\n",
       "      <td>26.50</td>\n",
       "      <td>98.87</td>\n",
       "      <td>567.7</td>\n",
       "      <td>0.2098</td>\n",
       "      <td>0.8663</td>\n",
       "      <td>0.6869</td>\n",
       "      <td>0.2575</td>\n",
       "      <td>0.6638</td>\n",
       "      <td>0.17300</td>\n",
       "    </tr>\n",
       "    <tr>\n",
       "      <th>4</th>\n",
       "      <td>84358402</td>\n",
       "      <td>M</td>\n",
       "      <td>20.29</td>\n",
       "      <td>14.34</td>\n",
       "      <td>135.10</td>\n",
       "      <td>1297.0</td>\n",
       "      <td>0.10030</td>\n",
       "      <td>0.13280</td>\n",
       "      <td>0.1980</td>\n",
       "      <td>0.10430</td>\n",
       "      <td>...</td>\n",
       "      <td>22.54</td>\n",
       "      <td>16.67</td>\n",
       "      <td>152.20</td>\n",
       "      <td>1575.0</td>\n",
       "      <td>0.1374</td>\n",
       "      <td>0.2050</td>\n",
       "      <td>0.4000</td>\n",
       "      <td>0.1625</td>\n",
       "      <td>0.2364</td>\n",
       "      <td>0.07678</td>\n",
       "    </tr>\n",
       "  </tbody>\n",
       "</table>\n",
       "<p>5 rows × 32 columns</p>\n",
       "</div>"
      ],
      "text/plain": [
       "         0  1      2      3       4       5        6        7       8   \\\n",
       "0    842302  M  17.99  10.38  122.80  1001.0  0.11840  0.27760  0.3001   \n",
       "1    842517  M  20.57  17.77  132.90  1326.0  0.08474  0.07864  0.0869   \n",
       "2  84300903  M  19.69  21.25  130.00  1203.0  0.10960  0.15990  0.1974   \n",
       "3  84348301  M  11.42  20.38   77.58   386.1  0.14250  0.28390  0.2414   \n",
       "4  84358402  M  20.29  14.34  135.10  1297.0  0.10030  0.13280  0.1980   \n",
       "\n",
       "        9    ...        22     23      24      25      26      27      28  \\\n",
       "0  0.14710   ...     25.38  17.33  184.60  2019.0  0.1622  0.6656  0.7119   \n",
       "1  0.07017   ...     24.99  23.41  158.80  1956.0  0.1238  0.1866  0.2416   \n",
       "2  0.12790   ...     23.57  25.53  152.50  1709.0  0.1444  0.4245  0.4504   \n",
       "3  0.10520   ...     14.91  26.50   98.87   567.7  0.2098  0.8663  0.6869   \n",
       "4  0.10430   ...     22.54  16.67  152.20  1575.0  0.1374  0.2050  0.4000   \n",
       "\n",
       "       29      30       31  \n",
       "0  0.2654  0.4601  0.11890  \n",
       "1  0.1860  0.2750  0.08902  \n",
       "2  0.2430  0.3613  0.08758  \n",
       "3  0.2575  0.6638  0.17300  \n",
       "4  0.1625  0.2364  0.07678  \n",
       "\n",
       "[5 rows x 32 columns]"
      ]
     },
     "execution_count": 1,
     "metadata": {},
     "output_type": "execute_result"
    }
   ],
   "source": [
    "import pandas as pd\n",
    "\n",
    "df = pd.read_csv(\n",
    "    'https://archive.ics.uci.edu/ml/machine-learning-databases/breast-cancer-wisconsin/wdbc.data', \n",
    "    header=None)\n",
    "df.head()"
   ]
  },
  {
   "cell_type": "markdown",
   "metadata": {},
   "source": [
    "Now we assign the 30 features to a NumPy array **x**, then by using [**LabelEncoder**](http://scikit-learn.org/stable/modules/generated/sklearn.preprocessing.LabelEncoder.html) we transform the class labels from their original string representation (**M** and **B**) to integers (1 and 0).\n",
    "\n",
    "We create 2 NumPy arrays from the **pandas DataFrame**, in **x** we keep all the features of the dataset (from column 3 onward) and in **y** we get only labels (column 2)."
   ]
  },
  {
   "cell_type": "code",
   "execution_count": 2,
   "metadata": {
    "collapsed": true
   },
   "outputs": [],
   "source": [
    "from sklearn.preprocessing import LabelEncoder\n",
    "\n",
    "# We get just the values from every column\n",
    "# In column 0 there are only IDs\n",
    "x = df.loc[:, 2:].values \n",
    "y = df.loc[:, 1].values\n",
    "\n",
    "# Create a LabelEncoder object and transform labels\n",
    "le = LabelEncoder()\n",
    "y = le.fit_transform(y)"
   ]
  },
  {
   "cell_type": "markdown",
   "metadata": {},
   "source": [
    "Now the two classes are encoded as **1 = M** and **0 = B**. To check if the behaviour is correct we can call the method on two dummy examples. \n",
    "\n",
    "> Notice that by calling the **transform** method on the object used to fit the encoder (or other transformations) we can transform new data coming in."
   ]
  },
  {
   "cell_type": "code",
   "execution_count": 3,
   "metadata": {
    "collapsed": false
   },
   "outputs": [
    {
     "data": {
      "text/plain": [
       "array([1, 0])"
      ]
     },
     "execution_count": 3,
     "metadata": {},
     "output_type": "execute_result"
    }
   ],
   "source": [
    "le.transform(['M', 'B'])"
   ]
  },
  {
   "cell_type": "markdown",
   "metadata": {},
   "source": [
    "Before constructing the first model pipeline let's divide data into training and test sets"
   ]
  },
  {
   "cell_type": "code",
   "execution_count": 4,
   "metadata": {
    "collapsed": false
   },
   "outputs": [],
   "source": [
    "from sklearn.model_selection import train_test_split\n",
    "\n",
    "x_train, x_test, y_train, y_test = train_test_split(x, y, test_size=.2, random_state=1)"
   ]
  },
  {
   "cell_type": "markdown",
   "metadata": {},
   "source": [
    "### Combining transformers and estimators in a pipeline\n",
    "\n",
    "As we learned previously, we want to standardize the features of the model before running it. So, let's assume that we want to compress our data from 30 dimensions onto a lower two-dimensional subspace via PCA. Instead of going through the transformation steps we can chain the [**StandardScaler**](http://scikit-learn.org/stable/modules/generated/sklearn.preprocessing.StandardScaler.html), [**PCA**](http://scikit-learn.org/stable/modules/generated/sklearn.decomposition.PCA.html) and [**LogisticRegression**](http://scikit-learn.org/stable/modules/generated/sklearn.linear_model.LogisticRegression.html) in a [**Pipeline**](http://scikit-learn.org/stable/modules/generated/sklearn.pipeline.Pipeline.html)."
   ]
  },
  {
   "cell_type": "code",
   "execution_count": 5,
   "metadata": {
    "collapsed": true
   },
   "outputs": [],
   "source": [
    "from sklearn.preprocessing import StandardScaler\n",
    "from sklearn.decomposition import PCA\n",
    "from sklearn.linear_model import LogisticRegression\n",
    "from sklearn.pipeline import Pipeline"
   ]
  },
  {
   "cell_type": "code",
   "execution_count": 6,
   "metadata": {
    "collapsed": false
   },
   "outputs": [
    {
     "name": "stdout",
     "output_type": "stream",
     "text": [
      "Test Accuracy: 0.947\n"
     ]
    }
   ],
   "source": [
    "pipe_lr = Pipeline([('scl', StandardScaler()), \n",
    "                    ('pca', PCA(n_components=2)), \n",
    "                    ('clf', LogisticRegression(random_state=1))])\n",
    "pipe_lr.fit(x_train, y_train)\n",
    "print('Test Accuracy: %.3f' % pipe_lr.score(x_test, y_test))"
   ]
  },
  {
   "cell_type": "markdown",
   "metadata": {},
   "source": [
    "The **Pipeline** object takes a list of tuples as input where the first element is an ID used to access single elements in the pipeline, and the second element is a scikit-learn transformer or estimator.\n",
    "\n",
    "## Cross-validation\n",
    "\n",
    "To avoid overfitting we can use **cross-validation**. There are two major techniques: **holdout cross-validation** and **k-fold cross-validation**.\n",
    "\n",
    "### Holdout method\n",
    "\n",
    "By splitting the dataset into training and test datasets and performing model selection and hyperparameter tuning on the same test set we make it become training data. A better way to use the **holdout method** is to split data into training, validation and test set.\n",
    "\n",
    "The issue with this method is that it will depend on the split of the data, and it can be impractical for small data problems.\n",
    "\n",
    "### K-fold cross-validation\n",
    "\n",
    "In **k-fold cross-validation** we randomly split the training dataset into *k* folds without replacement, where $k-1$ folds are used for model training and one fold is used for testing. The procedure is repeated *k* times. \n",
    "\n",
    "The default value for *k* is 10 which is a reasonable number for many datasets, for small ones we can increase *k*, in this way more data will be used for training every iteration.\n",
    "\n",
    "For classification problems we can improve k-fold performance with **Stratified k-fold** which tends to perform better with unequal class proportions. In fact with this method every fold retains the proportion of classes."
   ]
  },
  {
   "cell_type": "code",
   "execution_count": 7,
   "metadata": {
    "collapsed": true
   },
   "outputs": [],
   "source": [
    "import numpy as np\n",
    "from sklearn.model_selection import StratifiedKFold"
   ]
  },
  {
   "cell_type": "code",
   "execution_count": 8,
   "metadata": {
    "collapsed": false
   },
   "outputs": [
    {
     "name": "stdout",
     "output_type": "stream",
     "text": [
      "Fold: 1, Class dist.: [256 153], Acc: 0.891\n",
      "Fold: 2, Class dist.: [256 153], Acc: 0.978\n",
      "Fold: 3, Class dist.: [256 153], Acc: 0.978\n",
      "Fold: 4, Class dist.: [256 153], Acc: 0.913\n",
      "Fold: 5, Class dist.: [256 153], Acc: 0.935\n",
      "Fold: 6, Class dist.: [257 153], Acc: 0.978\n",
      "Fold: 7, Class dist.: [257 153], Acc: 0.933\n",
      "Fold: 8, Class dist.: [257 153], Acc: 0.956\n",
      "Fold: 9, Class dist.: [257 153], Acc: 0.978\n",
      "Fold: 10, Class dist.: [257 153], Acc: 0.956\n"
     ]
    }
   ],
   "source": [
    "kfold = StratifiedKFold(n_splits=10,\n",
    "                        random_state=1).split(x_train, y_train)\n",
    "scores = []\n",
    "for k, (train, test) in enumerate(kfold):\n",
    "    pipe_lr.fit(x_train[train], y_train[train])\n",
    "    score = pipe_lr.score(x_train[test], y_train[test])\n",
    "    scores.append(score)\n",
    "    print('Fold: %s, Class dist.: %s, Acc: %.3f' % (k+1, np.bincount(y_train[train]), score))"
   ]
  },
  {
   "cell_type": "code",
   "execution_count": 9,
   "metadata": {
    "collapsed": false
   },
   "outputs": [
    {
     "name": "stdout",
     "output_type": "stream",
     "text": [
      "CV accuracy: 0.950 +/- 0.029\n"
     ]
    }
   ],
   "source": [
    "print('CV accuracy: %.3f +/- %.3f' % (np.mean(scores), np.std(scores)))"
   ]
  },
  {
   "cell_type": "markdown",
   "metadata": {},
   "source": [
    "Though the previous code is useful to understand how k-fold works under the hood, we have a better and faster implementation implemented in scikit-learn."
   ]
  },
  {
   "cell_type": "code",
   "execution_count": 10,
   "metadata": {
    "collapsed": true
   },
   "outputs": [],
   "source": [
    "from sklearn.model_selection import cross_val_score"
   ]
  },
  {
   "cell_type": "code",
   "execution_count": 11,
   "metadata": {
    "collapsed": false
   },
   "outputs": [
    {
     "name": "stdout",
     "output_type": "stream",
     "text": [
      "CV accuracy scores: [ 0.89130435  0.97826087  0.97826087  0.91304348  0.93478261  0.97777778\n",
      "  0.93333333  0.95555556  0.97777778  0.95555556]\n"
     ]
    }
   ],
   "source": [
    "scores = cross_val_score(estimator=pipe_lr,\n",
    "                        X=x_train,\n",
    "                        y=y_train,\n",
    "                        cv=10,\n",
    "                        n_jobs=1)\n",
    "print('CV accuracy scores: %s' % scores)"
   ]
  },
  {
   "cell_type": "code",
   "execution_count": 12,
   "metadata": {
    "collapsed": false
   },
   "outputs": [
    {
     "name": "stdout",
     "output_type": "stream",
     "text": [
      "CV accuracy 0.950 +/- 0.029\n"
     ]
    }
   ],
   "source": [
    "print('CV accuracy %.3f +/- %.3f' % (np.mean(scores), np.std(scores)))"
   ]
  },
  {
   "cell_type": "markdown",
   "metadata": {},
   "source": [
    "## Debugging algorithms with learning and validation curves\n",
    "\n",
    "We will now take a look at the performance of algorithms via **learning curves** and **validation curves**.\n",
    "\n",
    "### Diagnosing bias and variance problems with learning curves\n",
    "\n",
    "If a model is too complex for the underlying data it will likely overfit on training data and won't generalize well to unseen data. We can solve the issue by collecting more data, but since this could be expensive and/or unfeasible we may want to check whether collecting more data could help us."
   ]
  },
  {
   "cell_type": "code",
   "execution_count": 13,
   "metadata": {
    "collapsed": true
   },
   "outputs": [],
   "source": [
    "%matplotlib inline\n",
    "import matplotlib\n",
    "import matplotlib.pyplot as plt\n",
    "matplotlib.rcParams['figure.figsize'] = (15.0, 7.0)"
   ]
  },
  {
   "cell_type": "code",
   "execution_count": 14,
   "metadata": {
    "collapsed": false
   },
   "outputs": [
    {
     "data": {
      "image/png": "[encoded data removed]",
      "text/plain": [
       "<matplotlib.figure.Figure at 0x7f3be0cbafd0>"
      ]
     },
     "metadata": {},
     "output_type": "display_data"
    }
   ],
   "source": [
    "from sklearn.model_selection import learning_curve\n",
    "\n",
    "pipe_lr = Pipeline([\n",
    "    ('scl', StandardScaler()),\n",
    "    ('clf', LogisticRegression(penalty='l2', random_state=0))\n",
    "])\n",
    "train_sizes, train_scores, test_scores = \\\n",
    "    learning_curve(\n",
    "        estimator=pipe_lr,\n",
    "        X=x_train,\n",
    "        y=y_train,\n",
    "        train_sizes=np.linspace(.1, 1.0, 10),\n",
    "        cv=10,\n",
    "        n_jobs=-1\n",
    "    )\n",
    "train_mean = np.mean(train_scores, axis=1)\n",
    "train_std = np.std(train_scores, axis=1)\n",
    "test_mean = np.mean(test_scores, axis=1)\n",
    "test_std = np.std(test_scores, axis=1)\n",
    "\n",
    "plt.plot(\n",
    "    train_sizes, \n",
    "    train_mean,\n",
    "    color='blue', \n",
    "    marker='o',\n",
    "    markersize=5, \n",
    "    label='training accuracy'\n",
    ")\n",
    "plt.fill_between(\n",
    "    train_sizes,\n",
    "    train_mean + train_std,\n",
    "    train_mean - train_std,\n",
    "    alpha=.15,\n",
    "    color='blue'\n",
    ")\n",
    "plt.plot(\n",
    "    train_sizes,\n",
    "    test_mean,\n",
    "    color='green',\n",
    "    linestyle='--',\n",
    "    marker='s',\n",
    "    markersize=5,\n",
    "    label='validation accuracy'\n",
    ")\n",
    "plt.fill_between(\n",
    "    train_sizes,\n",
    "    test_mean + test_std,\n",
    "    test_mean - test_std,\n",
    "    alpha=.15,\n",
    "    color='green'\n",
    ")\n",
    "plt.grid()\n",
    "plt.xlabel('Number of training samples')\n",
    "plt.ylabel('Accuracy')\n",
    "plt.legend(loc='lower right')\n",
    "plt.ylim([.8, 1.0])\n",
    "plt.show()"
   ]
  },
  {
   "cell_type": "markdown",
   "metadata": {},
   "source": [
    "With [**learning_curve**](http://scikit-learn.org/stable/modules/generated/sklearn.model_selection.learning_curve.html) we can control the absolute or relative number of training samples used to generate the learning curves. **train_sizes** here are set to use 10 evenly spaced relative intervals.\n",
    "\n",
    "As we can see the model performs quite well on the test dataset, though there might be some overfitting indicated by a small, but visible gap between training and **cv** accuracy.\n",
    "\n",
    "### Addressing overfitting and underfitting with validation curves\n",
    "\n",
    "**Validation curves** are useful to evaluate models, since instead of plotting the training and test accuracies as functions of sample size, we vary the model paramters and see how performance changes."
   ]
  },
  {
   "cell_type": "code",
   "execution_count": 15,
   "metadata": {
    "collapsed": false
   },
   "outputs": [
    {
     "name": "stderr",
     "output_type": "stream",
     "text": [
      "/home/alan/anaconda3/envs/ml/lib/python3.6/site-packages/sklearn/cross_validation.py:44: DeprecationWarning: This module was deprecated in version 0.18 in favor of the model_selection module into which all the refactored classes and functions are moved. Also note that the interface of the new CV iterators are different from that of this module. This module will be removed in 0.20.\n",
      "  \"This module will be removed in 0.20.\", DeprecationWarning)\n",
      "/home/alan/anaconda3/envs/ml/lib/python3.6/site-packages/sklearn/learning_curve.py:23: DeprecationWarning: This module was deprecated in version 0.18 in favor of the model_selection module into which all the functions are moved. This module will be removed in 0.20\n",
      "  DeprecationWarning)\n"
     ]
    }
   ],
   "source": [
    "from sklearn.learning_curve import validation_curve"
   ]
  },
  {
   "cell_type": "code",
   "execution_count": 16,
   "metadata": {
    "collapsed": false
   },
   "outputs": [
    {
     "data": {
      "image/png": "[encoded data removed]",
      "text/plain": [
       "<matplotlib.figure.Figure at 0x7f3be03c3cf8>"
      ]
     },
     "metadata": {},
     "output_type": "display_data"
    }
   ],
   "source": [
    "param_range = [.001, .01, .1, 1.0, 10.0, 100.0]\n",
    "train_scores, test_scores = validation_curve(\n",
    "    estimator=pipe_lr,\n",
    "    X=x_train,\n",
    "    y=y_train,\n",
    "    param_name='clf__C',\n",
    "    param_range=param_range,\n",
    "    cv=10\n",
    ")\n",
    "train_mean = np.mean(train_scores, axis=1)\n",
    "train_std = np.std(train_scores, axis=1)\n",
    "test_mean = np.mean(test_scores, axis=1)\n",
    "test_std = np.std(test_scores, axis=1)\n",
    "\n",
    "plt.plot(\n",
    "    param_range, \n",
    "    train_mean,\n",
    "    color='blue', \n",
    "    marker='o',\n",
    "    markersize=5, \n",
    "    label='training accuracy'\n",
    ")\n",
    "plt.fill_between(\n",
    "    param_range,\n",
    "    train_mean + train_std,\n",
    "    train_mean - train_std,\n",
    "    alpha=.15,\n",
    "    color='blue'\n",
    ")\n",
    "plt.plot(\n",
    "    param_range,\n",
    "    test_mean,\n",
    "    color='green',\n",
    "    linestyle='--',\n",
    "    marker='s',\n",
    "    markersize=5,\n",
    "    label='validation accuracy'\n",
    ")\n",
    "plt.fill_between(\n",
    "    param_range,\n",
    "    test_mean + test_std,\n",
    "    test_mean - test_std,\n",
    "    alpha=.15,\n",
    "    color='green'\n",
    ")\n",
    "plt.grid()\n",
    "plt.xscale('log')\n",
    "plt.xlabel('Parameter C')\n",
    "plt.ylabel('Accuracy')\n",
    "plt.legend(loc='lower right')\n",
    "plt.ylim([.8, 1.0])\n",
    "plt.show()"
   ]
  },
  {
   "cell_type": "markdown",
   "metadata": {},
   "source": [
    "Similar to learning curve the [**validation_curve**](http://scikit-learn.org/stable/modules/generated/sklearn.model_selection.validation_curve.html) we specify the parameter we want to evaluate, in this case **C**.\n",
    "\n",
    "> To access the parameter directly from the pipeline we git to the **validation_curve** function as *param_name* 'clf\\_\\_C' telling the function we want to modify the **C** paramater inside the 'clf' object in the pipeline. We can modify every step of the pipeline and any parameter in this way"
   ]
  },
  {
   "cell_type": "markdown",
   "metadata": {},
   "source": [
    "## Grid Search\n",
    "\n",
    "What we did before was testing the value of one parameter of a model, with **grid search** our aim is to find the optimal combination of hyperparameter values.\n",
    "\n",
    "### Tuning hyperparameters via grid search\n",
    "\n",
    "Grid search is a brute force exhaustive search paradigm where we specify a list of values for various parameters and the computer evaluates the performance for each combination."
   ]
  },
  {
   "cell_type": "code",
   "execution_count": 17,
   "metadata": {
    "collapsed": false
   },
   "outputs": [
    {
     "name": "stderr",
     "output_type": "stream",
     "text": [
      "/home/alan/anaconda3/envs/ml/lib/python3.6/site-packages/sklearn/grid_search.py:43: DeprecationWarning: This module was deprecated in version 0.18 in favor of the model_selection module into which all the refactored classes and functions are moved. This module will be removed in 0.20.\n",
      "  DeprecationWarning)\n"
     ]
    }
   ],
   "source": [
    "from sklearn.grid_search import GridSearchCV\n",
    "from sklearn.svm import SVC"
   ]
  },
  {
   "cell_type": "code",
   "execution_count": 18,
   "metadata": {
    "collapsed": false
   },
   "outputs": [
    {
     "name": "stdout",
     "output_type": "stream",
     "text": [
      "0.978021978021978\n",
      "{'clf__C': 0.1, 'clf__kernel': 'linear'}\n"
     ]
    }
   ],
   "source": [
    "pipe_svc = Pipeline([\n",
    "    ('scl', StandardScaler()),\n",
    "    ('clf', SVC(random_state=1))\n",
    "])\n",
    "param_range = [.0001, .001, .01, .1, 1.0, 10.0, 100.0, 1000.0]\n",
    "param_grid = [{'clf__C': param_range,\n",
    "               'clf__kernel': ['linear']}, \n",
    "              {'clf__C': param_range,\n",
    "               'clf__gamma': param_range,\n",
    "               'clf__kernel': ['rbf']}]\n",
    "gs = GridSearchCV(\n",
    "    estimator=pipe_svc,\n",
    "    param_grid=param_grid,\n",
    "    scoring='accuracy',\n",
    "    cv=10,\n",
    "    n_jobs=-1\n",
    ")\n",
    "gs = gs.fit(x_train, y_train)\n",
    "print(gs.best_score_)\n",
    "print(gs.best_params_)"
   ]
  },
  {
   "cell_type": "markdown",
   "metadata": {},
   "source": [
    "To recap: we initialized a [**GridSearchCV**](http://scikit-learn.org/stable/modules/generated/sklearn.model_selection.GridSearchCV.html) object to train and tune a [**Support Vector Machine (SVM)**](http://scikit-learn.org/stable/modules/generated/sklearn.svm.SVC.html) pipeline. We set a list of dictionaries for the *param\\_grid* argument to specify a set of parameters that we want to tune.\n",
    "\n",
    "Now we will use the *best\\_params\\_* coming out of grid search to check model performance on the test set."
   ]
  },
  {
   "cell_type": "code",
   "execution_count": 19,
   "metadata": {
    "collapsed": false
   },
   "outputs": [
    {
     "name": "stdout",
     "output_type": "stream",
     "text": [
      "Test score: 0.965\n"
     ]
    }
   ],
   "source": [
    "clf = gs.best_estimator_\n",
    "clf.fit(x_train, y_train)\n",
    "print('Test score: %.3f' % clf.score(x_test, y_test))"
   ]
  },
  {
   "cell_type": "markdown",
   "metadata": {},
   "source": [
    "### Algorithm selection with nested cross validation\n",
    "\n",
    "When we want to evaluate different algorithms we can use **nested cross-validation**: we basically have an outer k-fold cross-validation loop to split data into training and test sets, and an inner loop using k-fold on the training fold to select the model."
   ]
  },
  {
   "cell_type": "code",
   "execution_count": 20,
   "metadata": {
    "collapsed": false
   },
   "outputs": [
    {
     "name": "stdout",
     "output_type": "stream",
     "text": [
      "CV accuracy: 0.965 +/- 0.025\n"
     ]
    }
   ],
   "source": [
    "gs = GridSearchCV(\n",
    "    estimator=pipe_svc,\n",
    "    param_grid=param_grid,\n",
    "    scoring='accuracy',\n",
    "    cv=2,\n",
    "    n_jobs=-1\n",
    ")\n",
    "scores = cross_val_score(\n",
    "    gs, \n",
    "    x_train,\n",
    "    y_train, \n",
    "    scoring='accuracy',\n",
    "    cv=5\n",
    ")\n",
    "print('CV accuracy: %.3f +/- %.3f' % (\n",
    "    np.mean(scores),\n",
    "    np.std(scores)\n",
    "))"
   ]
  },
  {
   "cell_type": "markdown",
   "metadata": {},
   "source": [
    "What we did there was **5x2** cross-validation, a widely used technique. In this way we get a sense of what to expect when using the model on unseen data.\n",
    "\n",
    "Now we will compare SVM with a decision tree:"
   ]
  },
  {
   "cell_type": "code",
   "execution_count": 21,
   "metadata": {
    "collapsed": true
   },
   "outputs": [],
   "source": [
    "from sklearn.tree import DecisionTreeClassifier"
   ]
  },
  {
   "cell_type": "code",
   "execution_count": 22,
   "metadata": {
    "collapsed": false
   },
   "outputs": [
    {
     "name": "stdout",
     "output_type": "stream",
     "text": [
      "CV accuracy: 0.906 +/- 0.015\n"
     ]
    }
   ],
   "source": [
    "gs = GridSearchCV(\n",
    "    estimator=DecisionTreeClassifier(random_state=0),\n",
    "    param_grid=[{\n",
    "        'max_depth': [1,2,3,4,5,6,7,None]\n",
    "    }],\n",
    "    scoring='accuracy',\n",
    "    cv=5\n",
    ")\n",
    "scores = cross_val_score(\n",
    "    gs, \n",
    "    x_train,\n",
    "    y_train,\n",
    "    scoring='accuracy',\n",
    "    cv=2\n",
    ")\n",
    "print('CV accuracy: %.3f +/- %.3f' % (\n",
    "    np.mean(scores),\n",
    "    np.std(scores)\n",
    "))"
   ]
  },
  {
   "cell_type": "markdown",
   "metadata": {},
   "source": [
    "## Looking at different performance evaluation metrics\n",
    "\n",
    "To measure the performance of a model up to now we used just accuracy, but there are other important measures such as **precision**, **recall** and the **F1 score**.\n",
    "\n",
    "### Confusion matrix\n",
    "\n",
    "A **confusion matrix** is a square matrix reporting the counts of **true positive**, **true negative**, **false positive** and **false negative**. Though we can easily calculate these metrics, scikit-learn provides a [**confusion_matrix**](http://scikit-learn.org/stable/modules/generated/sklearn.metrics.confusion_matrix.html) function"
   ]
  },
  {
   "cell_type": "code",
   "execution_count": 23,
   "metadata": {
    "collapsed": true
   },
   "outputs": [],
   "source": [
    "from sklearn.metrics import confusion_matrix"
   ]
  },
  {
   "cell_type": "code",
   "execution_count": 24,
   "metadata": {
    "collapsed": false
   },
   "outputs": [
    {
     "name": "stdout",
     "output_type": "stream",
     "text": [
      "[[71  1]\n",
      " [ 2 40]]\n"
     ]
    }
   ],
   "source": [
    "pipe_svc.fit(x_train, y_train)\n",
    "y_pred = pipe_svc.predict(x_test)\n",
    "confmat = confusion_matrix(y_true=y_test, y_pred=y_pred)\n",
    "print(confmat)"
   ]
  },
  {
   "cell_type": "markdown",
   "metadata": {},
   "source": [
    "We can use the [**matshow**](http://matplotlib.org/2.0.0/api/pyplot_api.html#matplotlib.pyplot.matshow) to visualize the array we got in return"
   ]
  },
  {
   "cell_type": "code",
   "execution_count": 25,
   "metadata": {
    "collapsed": false
   },
   "outputs": [
    {
     "data": {
      "image/png": "[encoded data removed]",
      "text/plain": [
       "<matplotlib.figure.Figure at 0x7f3be0269710>"
      ]
     },
     "metadata": {},
     "output_type": "display_data"
    }
   ],
   "source": [
    "fig, ax = plt.subplots(figsize=(5,5))\n",
    "ax.matshow(confmat, cmap=plt.cm.Blues, alpha=.3)\n",
    "for i in range(confmat.shape[0]):\n",
    "    for j in range(confmat.shape[1]):\n",
    "        ax.text(x=j, y=i, s=confmat[i, j], va='center', ha='center', size=20)\n",
    "\n",
    "plt.xlabel('predicted label', size=12)\n",
    "plt.ylabel('true label', size=12)\n",
    "plt.show()"
   ]
  },
  {
   "cell_type": "markdown",
   "metadata": {},
   "source": [
    "What we can infer is that if class 1 is **Malignant** then our model predicted correctly 40 malignant tumors and 71 belonging to class 0. Though the model predicted as well as non-malignant 2 samples that were actually malignant, and 1 as malignant that wasn't.\n",
    "\n",
    "### Optimizing precision and recall\n",
    "\n",
    "Prediction error and accuracy provide general information about how many samples were misclassified. **Error** is the sum of all wrong predictions divided by the total number of predictions:\n",
    "\n",
    "$$\n",
    "ERR=\\frac{FP+FN}{FP+FN+TN+TP}\n",
    "$$\n",
    "\n",
    "While **accuracy** is the opposite, or\n",
    "\n",
    "$$\n",
    "ACC=\\frac{TP+TN}{FP+FN+TN+TP}=1-ERR\n",
    "$$\n",
    "\n",
    "Here we consider $TP$ to indicate **True Positives**, $TN$ **True Negatives**, $FP$ **False Positives** and $FN$ **False Negatives**.\n",
    "\n",
    "**TPR (True positive rate)** and **FPR (False positive rate)** are useful for imbalanced classes classification problems.\n",
    "\n",
    "$$\n",
    "FPR=\\frac{FP}{N}=\\frac{FP}{FP+TN}\n",
    "$$\n",
    "\n",
    "$$\n",
    "TPR=\\frac{TP}{P}=\\frac{TP}{FN+TP}\n",
    "$$\n",
    "\n",
    "With **FPR** we control that - for instance - we are not predicting as benign what really are malignant tumors and viceversa. \n",
    "\n",
    "**Precision (PRE)** and **Recall (REC)** are related to true positive and true negative rates:\n",
    "\n",
    "$$\n",
    "PRE=\\frac{TP}{TP+FP}\n",
    "$$\n",
    "\n",
    "$$\n",
    "REC=\\frac{FP}{FN+TP}\n",
    "$$\n",
    "\n",
    "Usually **F1 score** is used which combines both precision and recall:\n",
    "\n",
    "$$\n",
    "F1=2\\frac{PRE\\times REC}{PRE+REC}\n",
    "$$\n",
    "\n",
    "We find all these metrics in the scikit-learn [**metrics**](http://scikit-learn.org/stable/modules/classes.html#module-sklearn.metrics) module."
   ]
  },
  {
   "cell_type": "code",
   "execution_count": 27,
   "metadata": {
    "collapsed": true
   },
   "outputs": [],
   "source": [
    "from sklearn.metrics import precision_score\n",
    "from sklearn.metrics import recall_score, f1_score"
   ]
  },
  {
   "cell_type": "code",
   "execution_count": 28,
   "metadata": {
    "collapsed": false
   },
   "outputs": [
    {
     "name": "stdout",
     "output_type": "stream",
     "text": [
      "Precision: 0.976\n",
      "Recall: 0.952\n",
      "F1: 0.964\n"
     ]
    }
   ],
   "source": [
    "print('Precision: %.3f' % precision_score(y_true=y_test, y_pred=y_pred))\n",
    "print('Recall: %.3f' % recall_score(y_true=y_test, y_pred=y_pred))\n",
    "print('F1: %.3f' % f1_score(y_true=y_test, y_pred=y_pred))"
   ]
  },
  {
   "cell_type": "markdown",
   "metadata": {},
   "source": [
    "Furthermore we can use a different scoring metric instead of 'accuracy' in Gridsearch. \n",
    "\n",
    "> Remember that the positive class for scikit-learn is 1, if we want a different positive label we can use the [**make_scorer**](http://scikit-learn.org/stable/modules/generated/sklearn.metrics.make_scorer.html) function"
   ]
  },
  {
   "cell_type": "code",
   "execution_count": 29,
   "metadata": {
    "collapsed": true
   },
   "outputs": [],
   "source": [
    "from sklearn.metrics import make_scorer, f1_score"
   ]
  },
  {
   "cell_type": "code",
   "execution_count": 30,
   "metadata": {
    "collapsed": true
   },
   "outputs": [],
   "source": [
    "scorer = make_scorer(f1_score, pos_label=0)\n",
    "gs = GridSearchCV(\n",
    "    estimator=pipe_svc,\n",
    "    param_grid=param_grid,\n",
    "    scoring=scorer,\n",
    "    cv=10\n",
    ")"
   ]
  },
  {
   "cell_type": "markdown",
   "metadata": {},
   "source": [
    "### Plotting a receiver operating characteristic\n",
    "\n",
    "**Receiver Operating Characteristic (ROC)** are useful tools for selecting models for classification based on their performance on false positive and true positive rates. A perfect classifier would fall on the top left of the chart, with a true positive rate of 1 and false positive rate of 0.\n",
    "\n",
    "Based on this curve we can calculate as well the **Area under the curve (AUC)**.\n",
    "\n",
    "To make the curve more interesting we are going to use only two features from the dataset."
   ]
  },
  {
   "cell_type": "code",
   "execution_count": 31,
   "metadata": {
    "collapsed": true
   },
   "outputs": [],
   "source": [
    "from sklearn.metrics import roc_curve, auc\n",
    "from scipy import interp"
   ]
  },
  {
   "cell_type": "code",
   "execution_count": 33,
   "metadata": {
    "collapsed": false
   },
   "outputs": [
    {
     "data": {
      "image/png": "[encoded data removed]",
      "text/plain": [
       "<matplotlib.figure.Figure at 0x7f3bdac72588>"
      ]
     },
     "metadata": {},
     "output_type": "display_data"
    }
   ],
   "source": [
    "pipe_lr = Pipeline([\n",
    "    ('scl', StandardScaler()),\n",
    "    ('pca', PCA(n_components=2)),\n",
    "    ('clf', LogisticRegression(penalty='l2', \n",
    "                               random_state=0,\n",
    "                               C=100.0))\n",
    "])\n",
    "x_train2 = x_train[:, [4, 14]]\n",
    "cv = list(StratifiedKFold(n_splits=3, \n",
    "                              random_state=1).split(x_train, y_train))\n",
    "\n",
    "fig = plt.figure(figsize=(15,7))\n",
    "\n",
    "mean_tpr = 0.0\n",
    "mean_fpr = np.linspace(0, 1, 100)\n",
    "all_tpr = []\n",
    "\n",
    "for i, (train, test) in enumerate(cv):\n",
    "    probas = pipe_lr.fit(x_train2[train],\n",
    "                         y_train[train]).predict_proba(x_train2[test])\n",
    "    fpr, tpr, thresholds = roc_curve(y_train[test],\n",
    "                                     probas[:, 1],\n",
    "                                     pos_label=1)\n",
    "    mean_tpr += interp(mean_fpr, fpr, tpr)\n",
    "    mean_tpr[0] = 0.0\n",
    "    roc_auc = auc(fpr,tpr)\n",
    "    \n",
    "    plt.plot(fpr,\n",
    "             tpr,\n",
    "             lw=1,\n",
    "             label='ROC fold %d (area = %0.2f)' \n",
    "                   % (i+1, roc_auc))\n",
    "\n",
    "plt.plot([0, 1],\n",
    "         [0, 1],\n",
    "         linestyle='--',\n",
    "         color=(.6, .6, .6),\n",
    "         label='random guessing')\n",
    "\n",
    "mean_tpr /= len(cv)\n",
    "mean_tpr[-1] = 1.0\n",
    "mean_auc = auc(mean_fpr, mean_tpr)\n",
    "\n",
    "plt.plot(mean_fpr, mean_tpr, 'k--',\n",
    "         label='mean ROC (area = %0.2f)' % mean_auc, lw=2)\n",
    "plt.plot([0, 0, 1],\n",
    "         [0, 1, 1],\n",
    "         lw=2,\n",
    "         linestyle=':',\n",
    "         color='black',\n",
    "         label='perfect performance')\n",
    "\n",
    "plt.xlim([-0.05, 1.05])\n",
    "plt.ylim([-0.05, 1.05])\n",
    "plt.xlabel('false positive rate')\n",
    "plt.ylabel('true positive rate')\n",
    "plt.title('Receiver Operator Characteristic')\n",
    "plt.legend(loc=\"lower right\")\n",
    "plt.show()"
   ]
  },
  {
   "cell_type": "markdown",
   "metadata": {},
   "source": [
    "What we did is calculate the performance of our pipeline by using the [**roc_curve**](http://scikit-learn.org/stable/modules/generated/sklearn.metrics.roc_curve.html) function for every iteration, moreover we interpolated the average ROC curve via the [**interp**](https://docs.scipy.org/doc/scipy-0.18.1/reference/interpolate.html) function and calculated the area under the curve via the [**auc**](http://scikit-learn.org/stable/modules/generated/sklearn.metrics.auc.html) function.\n",
    "\n",
    "The result is a ROC curve falling between the perfect score (1) and random guessing (0.5) at 0.75. If we are just interested in the ROC AUC score we can import the [**roc_auc_score**](http://scikit-learn.org/stable/modules/generated/sklearn.metrics.roc_auc_score.html) function."
   ]
  },
  {
   "cell_type": "code",
   "execution_count": 34,
   "metadata": {
    "collapsed": true
   },
   "outputs": [],
   "source": [
    "pipe_lr = pipe_lr.fit(x_train2, y_train)\n",
    "y_pred2 = pipe_lr.predict(x_test[:, [4, 14]])"
   ]
  },
  {
   "cell_type": "code",
   "execution_count": 35,
   "metadata": {
    "collapsed": true
   },
   "outputs": [],
   "source": [
    "from sklearn.metrics import roc_auc_score\n",
    "from sklearn.metrics import accuracy_score"
   ]
  },
  {
   "cell_type": "code",
   "execution_count": 36,
   "metadata": {
    "collapsed": false
   },
   "outputs": [
    {
     "name": "stdout",
     "output_type": "stream",
     "text": [
      "ROC AUC: 0.662\n"
     ]
    }
   ],
   "source": [
    "print('ROC AUC: %.3f' % roc_auc_score(y_true=y_test, y_score=y_pred2))"
   ]
  },
  {
   "cell_type": "code",
   "execution_count": 37,
   "metadata": {
    "collapsed": false
   },
   "outputs": [
    {
     "name": "stdout",
     "output_type": "stream",
     "text": [
      "Accuracy: 0.711\n"
     ]
    }
   ],
   "source": [
    "print('Accuracy: %.3f' % accuracy_score(y_true=y_test, y_pred=y_pred2))"
   ]
  },
  {
   "cell_type": "markdown",
   "metadata": {},
   "source": [
    "### Scoring metrics for multiclass classification\n",
    "\n",
    "The scoring metrics discussed previously are specific to binary classification problems, however scikit-learn implements **macro** and **micro** averaging to extend those methods to multiclass problems via **One vs. All (OvA)** classification.\n",
    "\n",
    "The micro average of the precision score for a $k$ class system can be calculated as:\n",
    "\n",
    "$$\n",
    "PRE_{micro}=\\frac{TP_1+...+TP_k}{TP_1+...+TP_k+FP_1+...+FP_k}\n",
    "$$\n",
    "\n",
    "The macro average is calculated as the average of scores of different systems:\n",
    "\n",
    "$$\n",
    "PRE_{macro}=\\frac{PRE_1+...+PRE_K}{k}\n",
    "$$\n",
    "\n",
    "Micro averaging is useful if we want to weight each instance or prediction equally, while macro averaging weights all classes equally and evaluates the overall performance of the model.\n",
    "\n",
    "> In scikit-learn the default for multiclass problems is **weighted macro averaging** which is calculated by weighting the score of each class by the number of true instances when calculating the average. We can change this by using the *average* parameter inside the scoring functions used"
   ]
  },
  {
   "cell_type": "code",
   "execution_count": 38,
   "metadata": {
    "collapsed": true
   },
   "outputs": [],
   "source": [
    "pre_scorer = make_scorer(score_func=precision_score,\n",
    "                         pos_label=1,\n",
    "                         greater_is_better=True,\n",
    "                         average='micro')"
   ]
  }
 ],
 "metadata": {
  "anaconda-cloud": {},
  "celltoolbar": "Raw Cell Format",
  "kernelspec": {
   "display_name": "Python 3",
   "language": "python",
   "name": "python3"
  },
  "language_info": {
   "codemirror_mode": {
    "name": "ipython",
    "version": 3
   },
   "file_extension": ".py",
   "mimetype": "text/x-python",
   "name": "python",
   "nbconvert_exporter": "python",
   "pygments_lexer": "ipython3",
   "version": "3.6.0"
  }
 },
 "nbformat": 4,
 "nbformat_minor": 2
}
